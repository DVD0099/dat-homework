{
 "cells": [
  {
   "cell_type": "markdown",
   "metadata": {
    "deletable": true,
    "editable": true
   },
   "source": [
    "# Project Design Writeup"
   ]
  },
  {
   "cell_type": "markdown",
   "metadata": {
    "deletable": true,
    "editable": true
   },
   "source": [
    "## Project Problem and Hypothesis\n",
    "Determine the sale price of a house in King County, Washington using real estate data collected from 2015-2016. This analysis can be helpful in homebuyers looking to determine their budget. If successful the model could be fitted to ohter locations in the country to predict prices. \n",
    "\n",
    "My hypothesis is there is a strong association between the price of a house and the condition it is in (grade). "
   ]
  },
  {
   "cell_type": "markdown",
   "metadata": {
    "deletable": true,
    "editable": true
   },
   "source": [
    "## Datasets\n",
    "Dataset was downloaded from Kaggle and contains 20 features. \n"
   ]
  },
  {
   "cell_type": "markdown",
   "metadata": {
    "deletable": true,
    "editable": true
   },
   "source": [
    "### Domain Knowledge\n",
    "\n",
    "I have recently started looking to purchase a house and have some knowledge of the different variables that impact price (location, size, bedrooms, school district, etc.)\n",
    "\n",
    "There are various compeitions on Kaggle regarding future sales price but a different feature set. Regarding this specific dataset many others have done a linear regression with R^2 as the benchmark metric with some getting ~90% accuracy."
   ]
  },
  {
   "cell_type": "markdown",
   "metadata": {
    "deletable": true,
    "editable": true
   },
   "source": [
    "## Project Concerns\n",
    "* Being able to put together everything we've learned into a model\n",
    "* Caveate: Having access to school district data as I've seen house prices are impacted by school districts\n",
    "* Cost of model being wrong - sellers selling their house for less than they could or buyers losing out on houses because their bid was too high or too low\n"
   ]
  },
  {
   "cell_type": "markdown",
   "metadata": {
    "deletable": true,
    "editable": true
   },
   "source": [
    "## Outcomes\n",
    "* I would like to create a model that has 80% accuracy or higher\n",
    "* target audience could be real estate companies or their clients\n",
    "* I don't think this model has to be overly complicated given the featureset as it seems to be a regression problem\n",
    "* if this project is a bust I will have to compare it against other models that have had higher success to understand the reasons my model failed."
   ]
  }
 ],
 "metadata": {
  "kernelspec": {
   "display_name": "Python 3",
   "language": "python",
   "name": "python3"
  },
  "language_info": {
   "codemirror_mode": {
    "name": "ipython",
    "version": 3
   },
   "file_extension": ".py",
   "mimetype": "text/x-python",
   "name": "python",
   "nbconvert_exporter": "python",
   "pygments_lexer": "ipython3",
   "version": "3.6.2"
  }
 },
 "nbformat": 4,
 "nbformat_minor": 2
}
